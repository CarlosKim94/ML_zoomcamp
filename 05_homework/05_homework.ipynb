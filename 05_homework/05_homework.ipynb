{
 "cells": [
  {
   "cell_type": "code",
   "execution_count": 1,
   "id": "7f81634f-db30-4595-8466-1953df29a55f",
   "metadata": {},
   "outputs": [],
   "source": [
    "import pandas as pd\n",
    "import numpy as np\n",
    "from sklearn.model_selection import train_test_split\n",
    "from sklearn.model_selection import KFold\n",
    "from sklearn.feature_extraction import DictVectorizer\n",
    "from sklearn.linear_model import LogisticRegression\n",
    "from sklearn.metrics import roc_auc_score"
   ]
  },
  {
   "cell_type": "markdown",
   "id": "8b93c0c6-f968-4a88-a98a-ad5ebf7b627d",
   "metadata": {},
   "source": [
    "#### Question 1\n",
    "\n",
    "- Install Pipenv\n",
    "- What's the version of pipenv you installed?\n",
    "- Use --version to find out"
   ]
  },
  {
   "cell_type": "markdown",
   "id": "d4080432-b6fd-4e9d-b353-8570e40a5032",
   "metadata": {},
   "source": [
    "version 2025.0.4"
   ]
  },
  {
   "cell_type": "markdown",
   "id": "477f7580-04f4-49d3-8936-1f6f5d1ef5df",
   "metadata": {},
   "source": [
    "#### Question 2\n",
    "\n",
    "- Use Pipenv to install Scikit-Learn version 1.5.2\n",
    "- What's the first hash for scikit-learn you get in Pipfile.lock?"
   ]
  },
  {
   "cell_type": "markdown",
   "id": "34a5513c-47ca-4c94-9f1f-8deba23d4e9e",
   "metadata": {},
   "source": [
    "\"sha256:03b6158efa3faaf1feea3faa884c840ebd61b6484167c711548fce208ea09445\""
   ]
  },
  {
   "cell_type": "markdown",
   "id": "c4ceeaf5-ad69-4c96-b3e4-b9915b683ee5",
   "metadata": {},
   "source": [
    "#### Models\n",
    "\n",
    "We've prepared a dictionary vectorizer and a model.\n",
    "Note: You don't need to train the model. This code is just for your reference.\n",
    "\n",
    "And then saved with Pickle. Download them:\n",
    "\n",
    "- DictVectorizer\n",
    "- LogisticRegression"
   ]
  },
  {
   "cell_type": "markdown",
   "id": "b5c7a48b-98b2-4560-a6e7-31dfe062a6b0",
   "metadata": {},
   "source": [
    "#### Question 3\n",
    "\n",
    "Let's use these models!\n",
    "\n",
    "- Write a script for loading these models with pickle\n",
    "- Score this client: {\"job\": \"management\", \"duration\": 400, \"poutcome\": \"success\"}\n",
    "\n",
    "What's the probability that this client will get a subscription?"
   ]
  },
  {
   "cell_type": "code",
   "execution_count": 2,
   "id": "b465f90a-b955-432f-84e4-fd84963df6b3",
   "metadata": {},
   "outputs": [],
   "source": [
    "import pickle"
   ]
  },
  {
   "cell_type": "markdown",
   "id": "7aa334d4-1325-4732-9449-01ce7cfef262",
   "metadata": {},
   "source": [
    "To save the model:"
   ]
  },
  {
   "cell_type": "code",
   "execution_count": 4,
   "id": "3b868858-7be8-49ac-be3f-abdb2e0c9e2c",
   "metadata": {},
   "outputs": [],
   "source": [
    "full_df = pd.read_csv('../bank-full.csv', sep=';')"
   ]
  },
  {
   "cell_type": "code",
   "execution_count": 5,
   "id": "4a097520-c530-48db-9a75-a34d8d823494",
   "metadata": {},
   "outputs": [],
   "source": [
    "df = full_df[[\n",
    "    'age',\n",
    "    'job',\n",
    "    'marital',\n",
    "    'education',\n",
    "    'balance',\n",
    "    'housing',\n",
    "    'contact',\n",
    "    'day',\n",
    "    'month',\n",
    "    'duration',\n",
    "    'campaign',\n",
    "    'pdays',\n",
    "    'previous',\n",
    "    'poutcome',\n",
    "    'y'\n",
    "]]"
   ]
  },
  {
   "cell_type": "code",
   "execution_count": 6,
   "id": "9d9aab95-3c25-4784-8e71-2c5dbb69eb5f",
   "metadata": {},
   "outputs": [
    {
     "name": "stderr",
     "output_type": "stream",
     "text": [
      "/var/folders/45/1q_b497s5fl6jhsh0zs7_0ph0000gn/T/ipykernel_85264/1655856896.py:1: SettingWithCopyWarning: \n",
      "A value is trying to be set on a copy of a slice from a DataFrame.\n",
      "Try using .loc[row_indexer,col_indexer] = value instead\n",
      "\n",
      "See the caveats in the documentation: https://pandas.pydata.org/pandas-docs/stable/user_guide/indexing.html#returning-a-view-versus-a-copy\n",
      "  df['y'] = (df['y']=='yes').astype(int)\n"
     ]
    },
    {
     "data": {
      "text/plain": [
       "y\n",
       "0    39922\n",
       "1     5289\n",
       "Name: count, dtype: int64"
      ]
     },
     "execution_count": 6,
     "metadata": {},
     "output_type": "execute_result"
    }
   ],
   "source": [
    "df['y'] = (df['y']=='yes').astype(int)\n",
    "df['y'].value_counts()"
   ]
  },
  {
   "cell_type": "code",
   "execution_count": 7,
   "id": "0d12c597-11b0-48de-a2a7-9cd100852fd7",
   "metadata": {},
   "outputs": [
    {
     "data": {
      "text/plain": [
       "(27126, 9042, 9043)"
      ]
     },
     "execution_count": 7,
     "metadata": {},
     "output_type": "execute_result"
    }
   ],
   "source": [
    "df_full_train, df_test = train_test_split(df, test_size=0.2, random_state=1)\n",
    "df_train, df_val = train_test_split(df_full_train, test_size=0.25, random_state=1)\n",
    "len(df_train), len(df_val), len(df_test)"
   ]
  },
  {
   "cell_type": "code",
   "execution_count": 8,
   "id": "df2ea40b-e239-45ca-8a78-0d7658842cf0",
   "metadata": {},
   "outputs": [],
   "source": [
    "df_train = df_train.reset_index(drop=True)\n",
    "df_val = df_val.reset_index(drop=True)\n",
    "df_test = df_test.reset_index(drop=True)\n",
    "y_train = df_train.y.values\n",
    "y_val = df_val.y.values\n",
    "y_test = df_test.y.values\n",
    "del df_train['y']\n",
    "del df_val['y']\n",
    "del df_test['y']"
   ]
  },
  {
   "cell_type": "code",
   "execution_count": 9,
   "id": "f8365091-6b94-40f5-a6b6-c9fc6368c587",
   "metadata": {},
   "outputs": [],
   "source": [
    "def train(df_train, y_train, C=1.0):\n",
    "    dicts = df_train.to_dict(orient='records')\n",
    "\n",
    "    dv = DictVectorizer(sparse=False)\n",
    "    X_train = dv.fit_transform(dicts)\n",
    "\n",
    "    model = LogisticRegression(solver='liblinear', C=C, max_iter=1000)\n",
    "    model.fit(X_train, y_train)\n",
    "\n",
    "    return dv, model"
   ]
  },
  {
   "cell_type": "code",
   "execution_count": 10,
   "id": "9eff81ed-6b4e-42a2-a17f-a859edd893a2",
   "metadata": {},
   "outputs": [],
   "source": [
    "def predict(df, dv, model):\n",
    "    dicts = df.to_dict(orient='records')\n",
    "\n",
    "    X = dv.transform(dicts)\n",
    "    y_pred = model.predict_proba(X)[:, 1]\n",
    "\n",
    "    return y_pred"
   ]
  },
  {
   "cell_type": "code",
   "execution_count": 11,
   "id": "0a66aa5d-7fea-4656-9721-4b70067beef9",
   "metadata": {},
   "outputs": [],
   "source": [
    "dv, model = train(df_train, y_train)"
   ]
  },
  {
   "cell_type": "code",
   "execution_count": 12,
   "id": "d07b3c37-ff30-46d9-bc5b-be8b3480c672",
   "metadata": {},
   "outputs": [],
   "source": [
    "y_pred = predict(df_val, dv, model)"
   ]
  },
  {
   "cell_type": "code",
   "execution_count": 13,
   "id": "5755b812-4dfa-4654-b8ed-7998a136dc57",
   "metadata": {},
   "outputs": [
    {
     "data": {
      "text/plain": [
       "0.8999653998756322"
      ]
     },
     "execution_count": 13,
     "metadata": {},
     "output_type": "execute_result"
    }
   ],
   "source": [
    "roc_auc_score(y_val, y_pred)"
   ]
  },
  {
   "cell_type": "code",
   "execution_count": 20,
   "id": "b36c739f-f5a1-4cc4-b6f6-256ce8f64a6b",
   "metadata": {},
   "outputs": [],
   "source": [
    "C = 1.0\n",
    "output_file = f'model_C={C}.bin'\n",
    "output_file\n",
    "with open(output_file, 'wb') as f_out:\n",
    "    pickle.dump((dv, model), f_out)"
   ]
  },
  {
   "cell_type": "markdown",
   "id": "6da9ae67-df1c-44b5-ab8a-2cf1c210cee8",
   "metadata": {},
   "source": [
    "To load the model:"
   ]
  },
  {
   "cell_type": "code",
   "execution_count": 21,
   "id": "4896124c-80f4-4aba-ac24-c00127552ee0",
   "metadata": {},
   "outputs": [],
   "source": [
    "model_file = 'model_C=1.0.bin'\n",
    "\n",
    "with open(model_file, 'rb') as f_in:\n",
    "    dv, model = pickle.load(f_in)"
   ]
  },
  {
   "cell_type": "code",
   "execution_count": 22,
   "id": "0f3c2237-874e-4276-aac3-c7645f11b3e0",
   "metadata": {},
   "outputs": [],
   "source": [
    "client = {\"job\": \"management\", \"duration\": 400, \"poutcome\": \"success\"}"
   ]
  },
  {
   "cell_type": "code",
   "execution_count": 23,
   "id": "17d87d40-3bc3-45f4-98e1-dfe77b60060e",
   "metadata": {},
   "outputs": [
    {
     "data": {
      "text/plain": [
       "array([[  0.,   0.,   0.,   0.,   0.,   0.,   0., 400.,   0.,   0.,   0.,\n",
       "          0.,   0.,   0.,   0.,   0.,   0.,   0.,   1.,   0.,   0.,   0.,\n",
       "          0.,   0.,   0.,   0.,   0.,   0.,   0.,   0.,   0.,   0.,   0.,\n",
       "          0.,   0.,   0.,   0.,   0.,   0.,   0.,   0.,   0.,   0.,   0.,\n",
       "          1.,   0.,   0.]])"
      ]
     },
     "execution_count": 23,
     "metadata": {},
     "output_type": "execute_result"
    }
   ],
   "source": [
    "X = dv.transform([client])\n",
    "X"
   ]
  },
  {
   "cell_type": "code",
   "execution_count": 24,
   "id": "8b6be165-d4c3-4e63-9c4c-87110fc6f49c",
   "metadata": {},
   "outputs": [
    {
     "data": {
      "text/plain": [
       "0.8992766099364298"
      ]
     },
     "execution_count": 24,
     "metadata": {},
     "output_type": "execute_result"
    }
   ],
   "source": [
    "model.predict_proba(X)[0, 1]"
   ]
  },
  {
   "cell_type": "markdown",
   "id": "2345b339-90cc-4d37-ab04-6209c8fa11b2",
   "metadata": {},
   "source": [
    "#### Question 4\n",
    "\n",
    "Now let's serve this model as a web service\n",
    "\n",
    "- Install Flask and gunicorn (or waitress, if you're on Windows)\n",
    "- Write Flask code for serving the model\n",
    "- Now score this client using requests:\n",
    "    - url = \"YOUR_URL\"\n",
    "    - client = {\"job\": \"student\", \"duration\": 280, \"poutcome\": \"failure\"}\n",
    "    - requests.post(url, json=client).json()\n",
    "\n",
    "What's the probability that this client will get a subscription?"
   ]
  },
  {
   "cell_type": "code",
   "execution_count": 1,
   "id": "55120e7d-9778-4f13-9cc0-341d8b5683a3",
   "metadata": {},
   "outputs": [],
   "source": [
    "import requests"
   ]
  },
  {
   "cell_type": "code",
   "execution_count": 2,
   "id": "1d437def-9c35-432e-9b8d-0b626e6f5deb",
   "metadata": {},
   "outputs": [],
   "source": [
    "url = 'http://localhost:9696/predict'"
   ]
  },
  {
   "cell_type": "code",
   "execution_count": 3,
   "id": "5321544e-f99b-4196-bd68-20a6134d5132",
   "metadata": {},
   "outputs": [],
   "source": [
    "client = {\"job\": \"student\", \"duration\": 280, \"poutcome\": \"failure\"}"
   ]
  },
  {
   "cell_type": "code",
   "execution_count": 7,
   "id": "12efe367-f026-4ceb-b979-5841b3894198",
   "metadata": {},
   "outputs": [
    {
     "data": {
      "text/plain": [
       "{'churn': True, 'churn_probability': 0.5226867244545101}"
      ]
     },
     "execution_count": 7,
     "metadata": {},
     "output_type": "execute_result"
    }
   ],
   "source": [
    "response = requests.post(url, json=client).json()\n",
    "response"
   ]
  },
  {
   "cell_type": "code",
   "execution_count": 5,
   "id": "4f15265c-260e-4f71-b615-a7e2e9cf6a5c",
   "metadata": {},
   "outputs": [
    {
     "name": "stdout",
     "output_type": "stream",
     "text": [
      "sending promo email to xyz-123\n"
     ]
    }
   ],
   "source": [
    "if response['churn'] == True:\n",
    "    print(\"sending promo email to %s\" % ('xyz-123'))"
   ]
  },
  {
   "cell_type": "markdown",
   "id": "4f813a5e-bc8b-4f08-bf61-f0b69c445cb4",
   "metadata": {},
   "source": [
    "#### Docker\n",
    "\n",
    "Install Docker. We will use it for the next two questions.\n",
    "\n",
    "For these questions, we prepared a base image: svizor/zoomcamp-model:3.11.5-slim. You'll need to use it (see Question 5 for an example).\n",
    "\n",
    "This image is based on python:3.11.5-slim and has a logistic regression model (a different one) as well a dictionary vectorizer inside.\n",
    "\n",
    "This is how the Dockerfile for this image looks like:\n",
    "\n",
    "- FROM python:3.11.5-slim\n",
    "- WORKDIR /app\n",
    "- COPY [\"model2.bin\", \"dv.bin\", \"./\"]\n",
    "\n",
    "We already built it and then pushed it to svizor/zoomcamp-model:3.11.5-slim.\n",
    "Note: You don't need to build this docker image, it's just for your reference."
   ]
  },
  {
   "cell_type": "markdown",
   "id": "ab99e3d7-18d5-49cf-8a5a-e1ee17e24f85",
   "metadata": {},
   "source": [
    "#### Question 5\n",
    "\n",
    "Download the base image svizor/zoomcamp-model:3.11.5-slim. You can easily make it by using docker pull command.\n",
    "\n",
    "So what's the size of this base image?\n",
    "\n",
    "You can get this information when running docker images - it'll be in the \"SIZE\" column.\n",
    "\n",
    "Dockerfile\n",
    "Now create your own Dockerfile based on the image we prepared.\n",
    "\n",
    "It should start like that:\n",
    "\n",
    "FROM svizor/zoomcamp-model:3.11.5-slim\n",
    "-  add your stuff here\n",
    "\n",
    "Now complete it:\n",
    "\n",
    "- Install all the dependencies form the Pipenv file\n",
    "- Copy your Flask script\n",
    "- Run it with Gunicorn\n",
    "\n",
    "After that, you can build your docker image."
   ]
  },
  {
   "cell_type": "markdown",
   "id": "2390e1d2-30b3-481e-ae3d-cce9c5508b91",
   "metadata": {},
   "source": [
    "197mb"
   ]
  },
  {
   "cell_type": "markdown",
   "id": "6efafa27-4df7-42ca-b120-a28f094ce80a",
   "metadata": {},
   "source": [
    "#### Question 6\n",
    "\n",
    "Let's run your docker container!\n",
    "\n",
    "After running it, score this client once again:\n",
    "\n",
    "- url = \"YOUR_URL\"\n",
    "- client = {\"job\": \"management\", \"duration\": 400, \"poutcome\": \"success\"}\n",
    "- requests.post(url, json=client).json()\n",
    "\n",
    "What's the probability that this client will get a subscription now?"
   ]
  },
  {
   "cell_type": "code",
   "execution_count": 9,
   "id": "2c3e95f3-1f87-45b4-8e6b-632ae72469b1",
   "metadata": {},
   "outputs": [],
   "source": [
    "url = 'http://localhost:9696/predict'"
   ]
  },
  {
   "cell_type": "code",
   "execution_count": 10,
   "id": "6cf898db-3308-4233-bc9b-e529d7f2dff2",
   "metadata": {},
   "outputs": [],
   "source": [
    "client = {\"job\": \"management\", \"duration\": 400, \"poutcome\": \"success\"}"
   ]
  },
  {
   "cell_type": "code",
   "execution_count": 11,
   "id": "e770e9d6-c7c2-4900-bec0-ddd9cc60c7b6",
   "metadata": {},
   "outputs": [
    {
     "data": {
      "text/plain": [
       "{'churn': True, 'churn_probability': 0.8992766099364298}"
      ]
     },
     "execution_count": 11,
     "metadata": {},
     "output_type": "execute_result"
    }
   ],
   "source": [
    "response = requests.post(url, json=client).json()\n",
    "response"
   ]
  },
  {
   "cell_type": "code",
   "execution_count": 12,
   "id": "4c8f1285-35fe-43bb-8147-8755b527464b",
   "metadata": {},
   "outputs": [
    {
     "name": "stdout",
     "output_type": "stream",
     "text": [
      "sending promo email to xyz-123\n"
     ]
    }
   ],
   "source": [
    "if response['churn'] == True:\n",
    "    print(\"sending promo email to %s\" % ('xyz-123'))"
   ]
  },
  {
   "cell_type": "code",
   "execution_count": null,
   "id": "7840f1c2-6ebd-4a7b-92f5-f0cba715ca19",
   "metadata": {},
   "outputs": [],
   "source": []
  }
 ],
 "metadata": {
  "kernelspec": {
   "display_name": "Python 3 (ipykernel)",
   "language": "python",
   "name": "python3"
  },
  "language_info": {
   "codemirror_mode": {
    "name": "ipython",
    "version": 3
   },
   "file_extension": ".py",
   "mimetype": "text/x-python",
   "name": "python",
   "nbconvert_exporter": "python",
   "pygments_lexer": "ipython3",
   "version": "3.10.8"
  }
 },
 "nbformat": 4,
 "nbformat_minor": 5
}
